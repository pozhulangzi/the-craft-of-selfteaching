{
 "cells": [
  {
   "cell_type": "markdown",
   "metadata": {},
   "source": [
    "一、JUPYTERLAB快捷键（外加mardown的编辑）:\n",
    "================================\n"
   ]
  },
  {
   "cell_type": "markdown",
   "metadata": {},
   "source": [
    "*Jupyter Notebook 有两种键盘输入模式*  \n",
    "\n",
    "~~- 编辑模式 ( Enter 键启动)，**允许你往单元中键入代码或文本**，这时的单元框线是**绿色**的。~~  \n",
    "- 命令模式 (   Esc 键开启)，**键盘输入运行程序命令**，这时的单元框线是**灰色**。  "
   ]
  },
  {
   "cell_type": "markdown",
   "metadata": {},
   "source": [
    "## 命令模式 (按键 Esc 开启)\n",
    "\n",
    "**Shift**-Enter : 运行本单元，**选中下个单元**      **Ctrl-Enter** : 运行本单元        **Alt**-Enter : 运行本单元，**在其下插入新单元**\n",
    "\n",
    "### 1、转换   \n",
    "Y : 单元转入代码状态    \n",
    "M :单元转入markdown状态    \n",
    "R : 单元转入raw状态    \n",
    "\n",
    "### 2、标题   \n",
    "1~6 : 设定 1~6 级标题\n",
    "\n",
    "\n",
    "### 3、选中\n",
    ">Shift-K : 扩大选中上方单元    \n",
    "Shift-J : 扩大选中下方单元    \n",
    "Shift-M : 合并选中的单元                   \n",
    ">>K : 选中上方单元  \n",
    "J : 选中下方单元  \n",
    "\n",
    "### 4、插入，恢复，剪切，粘贴，删除单元格  \n",
    ">A : 在上方插入新单元    \n",
    "B : 在下方插入新单元  \n",
    ">D*2 : 删除选中的单元  \n",
    ">Z : 恢复删除的最后一个单元    \n",
    "X : 剪切选中的单元    \n",
    "C : 复制选中的单元    \n",
    "V : 粘贴到下方单元 \n",
    "  \n",
    "\n",
    "\n",
    "\n",
    "* **Ctrl-S : 文件存盘**\n",
    "\n"
   ]
  },
  {
   "cell_type": "markdown",
   "metadata": {},
   "source": []
  },
  {
   "cell_type": "code",
   "execution_count": null,
   "metadata": {},
   "outputs": [],
   "source": []
  },
  {
   "cell_type": "code",
   "execution_count": null,
   "metadata": {},
   "outputs": [],
   "source": []
  },
  {
   "cell_type": "code",
   "execution_count": null,
   "metadata": {},
   "outputs": [],
   "source": []
  },
  {
   "cell_type": "markdown",
   "metadata": {},
   "source": []
  },
  {
   "cell_type": "code",
   "execution_count": null,
   "metadata": {},
   "outputs": [],
   "source": []
  }
 ],
 "metadata": {
  "kernelspec": {
   "display_name": "Python 3",
   "language": "python",
   "name": "python3"
  },
  "language_info": {
   "codemirror_mode": {
    "name": "ipython",
    "version": 3
   },
   "file_extension": ".py",
   "mimetype": "text/x-python",
   "name": "python",
   "nbconvert_exporter": "python",
   "pygments_lexer": "ipython3",
   "version": "3.7.3"
  }
 },
 "nbformat": 4,
 "nbformat_minor": 2
}
