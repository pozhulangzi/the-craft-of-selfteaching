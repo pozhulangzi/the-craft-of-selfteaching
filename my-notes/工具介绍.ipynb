{
 "cells": [
  {
   "cell_type": "markdown",
   "metadata": {},
   "source": [
    "# 什么是Markdown:"
   ]
  },
  {
   "cell_type": "markdown",
   "metadata": {},
   "source": [
    "首先，他是一个格式化语法结构，  \n",
    "其次他是一个使用Perl语言编写的用来实现Markdown至HTML转换工具，  \n",
    "他的设置目标就是让写作者尽可能使用容易阅读的语法书写。"
   ]
  },
  {
   "cell_type": "markdown",
   "metadata": {},
   "source": [
    "markwon是一种可以使用普通文本编辑器编写的标记语言，通过简单的标记语法，他可以使普通文本内容具有一定的格式。"
   ]
  }
 ],
 "metadata": {
  "kernelspec": {
   "display_name": "Python 3",
   "language": "python",
   "name": "python3"
  },
  "language_info": {
   "codemirror_mode": {
    "name": "ipython",
    "version": 3
   },
   "file_extension": ".py",
   "mimetype": "text/x-python",
   "name": "python",
   "nbconvert_exporter": "python",
   "pygments_lexer": "ipython3",
   "version": "3.7.3"
  }
 },
 "nbformat": 4,
 "nbformat_minor": 2
}
