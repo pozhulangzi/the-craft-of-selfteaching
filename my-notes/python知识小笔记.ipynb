{
 "cells": [
  {
   "cell_type": "markdown",
   "metadata": {},
   "source": [
    "# for循环："
   ]
  },
  {
   "cell_type": "code",
   "execution_count": null,
   "metadata": {},
   "outputs": [],
   "source": []
  },
  {
   "cell_type": "raw",
   "metadata": {},
   "source": [
    "\n",
    "1、for循环一般用于遍历元组，集合，列表这种数据类型里面的所有元素。（字典只会遍历索引)\n",
    "2、不同于while循环容易变成无限循环，for循环遍历完或终止便会结束运行。\n",
    "3、如果for循环的数据同时有不同的数据类型（比如元组、集合）也可以同时遍历不同数据的内部元素。比如：\n",
    "a=[('ppap','hello,world','phone'),['hello','zero','plane'],{'1':'one','2':'two','3':'three'}]\n",
    "for b in a:\n",
    "    for c in b:\n",
    "        print (c,end='|')\n",
    "ppap|hello,world|phone|hello|zero|plane|1|2|3|\n",
    "4、in；字面意思，从某个集合（列表等）里顺次取值\n",
    "5、range函数；生成一个等差级数链表，比如range（10）生成从0到9的整数。如果只有一个参数，则这个参数为右边界，则左边界默认为零，右边界娶不到。\n",
    "6、几乎在所有具有内嵌语句的结构的首句的末端都有一个冒号，至于作用，可以理解为解释说明。\n",
    "7、for不仅可以遍历元素，还可以和range函数结合生成元素。\n",
    "#生成递增递减的等差数列#\n",
    "for a in range (20,31,2)\n",
    "for a in range (60,49,-2)\n"
   ]
  },
  {
   "cell_type": "code",
   "execution_count": null,
   "metadata": {},
   "outputs": [],
   "source": [
    "\n",
    "\n"
   ]
  },
  {
   "cell_type": "code",
   "execution_count": null,
   "metadata": {},
   "outputs": [],
   "source": []
  },
  {
   "cell_type": "code",
   "execution_count": null,
   "metadata": {},
   "outputs": [],
   "source": []
  },
  {
   "cell_type": "code",
   "execution_count": null,
   "metadata": {},
   "outputs": [],
   "source": []
  }
 ],
 "metadata": {
  "kernelspec": {
   "display_name": "Python 3",
   "language": "python",
   "name": "python3"
  },
  "language_info": {
   "codemirror_mode": {
    "name": "ipython",
    "version": 3
   },
   "file_extension": ".py",
   "mimetype": "text/x-python",
   "name": "python",
   "nbconvert_exporter": "python",
   "pygments_lexer": "ipython3",
   "version": "3.7.3"
  }
 },
 "nbformat": 4,
 "nbformat_minor": 2
}
